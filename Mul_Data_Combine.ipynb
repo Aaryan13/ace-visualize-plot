{
 "cells": [
  {
   "cell_type": "code",
   "execution_count": 1,
   "metadata": {},
   "outputs": [
    {
     "name": "stdout",
     "output_type": "stream",
     "text": [
      "   Year     Month        State         County  Rate\n",
      "0  2015  February  Mississippi  Newton County   6.1\n",
      "1  2015  February  Mississippi  Panola County   9.4\n",
      "2  2015  February  Mississippi  Monroe County   7.9\n",
      "3  2015  February  Mississippi   Hinds County   6.1\n",
      "4  2015  February  Mississippi  Kemper County  10.6\n"
     ]
    }
   ],
   "source": [
    "import pandas as pd\n",
    "import numpy as np\n",
    "unemp_county=pd.read_csv(\"/home/aaryan/Documents/DataSets/Unem_county_US.csv\")\n",
    "print(unemp_county.head())"
   ]
  },
  {
   "cell_type": "code",
   "execution_count": 2,
   "metadata": {},
   "outputs": [
    {
     "name": "stdout",
     "output_type": "stream",
     "text": [
      "      Alaska  Arkansas  California  Colorado  Connecticut  Delaware  \\\n",
      "Year                                                                  \n",
      "1968   15.61      1.16       12.26      7.43        10.41      9.29   \n",
      "1969   14.80      1.10       11.63      7.05         9.87      8.81   \n",
      "1970   14.00      7.33       11.00      6.67        10.67      8.33   \n",
      "1971   13.41      7.03       10.54      6.39        10.22      7.98   \n",
      "1972   12.99      7.43       10.21      6.19        11.45      9.90   \n",
      "\n",
      "      District of Columbia   Guam  Hawaii  Idaho  ...  Oregon  Pennsylvania  \\\n",
      "Year                                              ...                         \n",
      "1968                  9.29   9.29    9.29   8.55  ...    9.29          8.55   \n",
      "1969                  8.81   8.81    8.81   8.11  ...    8.81          8.11   \n",
      "1970                 10.67  10.67   10.67   8.33  ...    8.33          8.67   \n",
      "1971                 10.22  10.22   10.22   7.98  ...    7.98          8.30   \n",
      "1972                  9.90  11.76    9.90   8.66  ...    7.74          9.90   \n",
      "\n",
      "      Rhode Island  South Dakota  Utah  Vermont  Washington  West Virginia  \\\n",
      "Year                                                                         \n",
      "1968         10.41          3.16  7.43    10.41       11.89           7.43   \n",
      "1969          9.87          3.00  7.05     9.87       11.28           7.05   \n",
      "1970         10.67          6.67  6.67    10.67       10.67           6.67   \n",
      "1971         10.22          6.39  6.39    10.22       10.22           6.39   \n",
      "1972          9.90          6.19  7.43     9.90        9.90           7.43   \n",
      "\n",
      "      Wisconsin  Wyoming  \n",
      "Year                      \n",
      "1968       9.29     8.92  \n",
      "1969       8.81     8.46  \n",
      "1970       8.67     8.67  \n",
      "1971       8.30     8.30  \n",
      "1972       8.97     9.28  \n",
      "\n",
      "[5 rows x 37 columns]\n"
     ]
    }
   ],
   "source": [
    "df=pd.read_csv(\"/home/aaryan/Documents/DataSets/MinWageData.csv\", encoding=\"UTF-8\")\n",
    "act_min_wage=pd.DataFrame()\n",
    "for name,group in df.groupby(\"State\"):\n",
    "    if act_min_wage.empty:\n",
    "        act_min_wage=group.set_index(\"Year\")[[\"Department.Of.Labor.Cleaned.Low.Value.2020.Dollars\"]].rename(columns={\"Department.Of.Labor.Cleaned.Low.Value.2020.Dollars\":name})\n",
    "    else:\n",
    "        act_min_wage=act_min_wage.join(group.set_index(\"Year\")[[\"Department.Of.Labor.Cleaned.Low.Value.2020.Dollars\"]].rename(columns={\"Department.Of.Labor.Cleaned.Low.Value.2020.Dollars\":name}))\n",
    "act_min_wage=act_min_wage.replace(0,np.NaN).dropna(axis=1)\n",
    "act_min_wage.head()"
   ]
  },
  {
   "cell_type": "code",
   "execution_count": 3,
   "metadata": {},
   "outputs": [
    {
     "name": "stdout",
     "output_type": "stream",
     "text": [
      "8.61\n"
     ]
    }
   ],
   "source": [
    "def get_min_wage(year,state):\n",
    "    try:\n",
    "        return act_min_wage.loc[year][state]\n",
    "    except:\n",
    "        return np.NaN\n",
    "print(get_min_wage(2012,\"Colorado\"))"
   ]
  },
  {
   "cell_type": "code",
   "execution_count": 4,
   "metadata": {},
   "outputs": [
    {
     "name": "stdout",
     "output_type": "stream",
     "text": [
      "CPU times: user 42.8 s, sys: 17 ms, total: 42.8 s\n",
      "Wall time: 42.8 s\n"
     ]
    }
   ],
   "source": [
    "%%time\n",
    "unemp_county['min_wage']=tuple(map(get_min_wage,unemp_county[\"Year\"],unemp_county[\"State\"]))"
   ]
  },
  {
   "cell_type": "code",
   "execution_count": 5,
   "metadata": {},
   "outputs": [
    {
     "data": {
      "text/html": [
       "<div>\n",
       "<style scoped>\n",
       "    .dataframe tbody tr th:only-of-type {\n",
       "        vertical-align: middle;\n",
       "    }\n",
       "\n",
       "    .dataframe tbody tr th {\n",
       "        vertical-align: top;\n",
       "    }\n",
       "\n",
       "    .dataframe thead th {\n",
       "        text-align: right;\n",
       "    }\n",
       "</style>\n",
       "<table border=\"1\" class=\"dataframe\">\n",
       "  <thead>\n",
       "    <tr style=\"text-align: right;\">\n",
       "      <th></th>\n",
       "      <th>Year</th>\n",
       "      <th>Month</th>\n",
       "      <th>State</th>\n",
       "      <th>County</th>\n",
       "      <th>Rate</th>\n",
       "      <th>min_wage</th>\n",
       "    </tr>\n",
       "  </thead>\n",
       "  <tbody>\n",
       "    <tr>\n",
       "      <th>0</th>\n",
       "      <td>2015</td>\n",
       "      <td>February</td>\n",
       "      <td>Mississippi</td>\n",
       "      <td>Newton County</td>\n",
       "      <td>6.1</td>\n",
       "      <td>NaN</td>\n",
       "    </tr>\n",
       "    <tr>\n",
       "      <th>1</th>\n",
       "      <td>2015</td>\n",
       "      <td>February</td>\n",
       "      <td>Mississippi</td>\n",
       "      <td>Panola County</td>\n",
       "      <td>9.4</td>\n",
       "      <td>NaN</td>\n",
       "    </tr>\n",
       "    <tr>\n",
       "      <th>2</th>\n",
       "      <td>2015</td>\n",
       "      <td>February</td>\n",
       "      <td>Mississippi</td>\n",
       "      <td>Monroe County</td>\n",
       "      <td>7.9</td>\n",
       "      <td>NaN</td>\n",
       "    </tr>\n",
       "    <tr>\n",
       "      <th>3</th>\n",
       "      <td>2015</td>\n",
       "      <td>February</td>\n",
       "      <td>Mississippi</td>\n",
       "      <td>Hinds County</td>\n",
       "      <td>6.1</td>\n",
       "      <td>NaN</td>\n",
       "    </tr>\n",
       "    <tr>\n",
       "      <th>4</th>\n",
       "      <td>2015</td>\n",
       "      <td>February</td>\n",
       "      <td>Mississippi</td>\n",
       "      <td>Kemper County</td>\n",
       "      <td>10.6</td>\n",
       "      <td>NaN</td>\n",
       "    </tr>\n",
       "  </tbody>\n",
       "</table>\n",
       "</div>"
      ],
      "text/plain": [
       "   Year     Month        State         County  Rate  min_wage\n",
       "0  2015  February  Mississippi  Newton County   6.1       NaN\n",
       "1  2015  February  Mississippi  Panola County   9.4       NaN\n",
       "2  2015  February  Mississippi  Monroe County   7.9       NaN\n",
       "3  2015  February  Mississippi   Hinds County   6.1       NaN\n",
       "4  2015  February  Mississippi  Kemper County  10.6       NaN"
      ]
     },
     "execution_count": 5,
     "metadata": {},
     "output_type": "execute_result"
    }
   ],
   "source": [
    "unemp_county.head()"
   ]
  },
  {
   "cell_type": "code",
   "execution_count": 6,
   "metadata": {},
   "outputs": [
    {
     "data": {
      "text/html": [
       "<div>\n",
       "<style scoped>\n",
       "    .dataframe tbody tr th:only-of-type {\n",
       "        vertical-align: middle;\n",
       "    }\n",
       "\n",
       "    .dataframe tbody tr th {\n",
       "        vertical-align: top;\n",
       "    }\n",
       "\n",
       "    .dataframe thead th {\n",
       "        text-align: right;\n",
       "    }\n",
       "</style>\n",
       "<table border=\"1\" class=\"dataframe\">\n",
       "  <thead>\n",
       "    <tr style=\"text-align: right;\">\n",
       "      <th></th>\n",
       "      <th>county</th>\n",
       "      <th>fips</th>\n",
       "      <th>cand</th>\n",
       "      <th>st</th>\n",
       "      <th>pct_report</th>\n",
       "      <th>votes</th>\n",
       "      <th>total_votes</th>\n",
       "      <th>pct</th>\n",
       "      <th>lead</th>\n",
       "    </tr>\n",
       "  </thead>\n",
       "  <tbody>\n",
       "    <tr>\n",
       "      <th>0</th>\n",
       "      <td>NaN</td>\n",
       "      <td>US</td>\n",
       "      <td>Donald Trump</td>\n",
       "      <td>US</td>\n",
       "      <td>0.9951</td>\n",
       "      <td>60350241.0</td>\n",
       "      <td>127592176.0</td>\n",
       "      <td>0.472993</td>\n",
       "      <td>Donald Trump</td>\n",
       "    </tr>\n",
       "    <tr>\n",
       "      <th>1</th>\n",
       "      <td>NaN</td>\n",
       "      <td>US</td>\n",
       "      <td>Hillary Clinton</td>\n",
       "      <td>US</td>\n",
       "      <td>0.9951</td>\n",
       "      <td>60981118.0</td>\n",
       "      <td>127592176.0</td>\n",
       "      <td>0.477938</td>\n",
       "      <td>Donald Trump</td>\n",
       "    </tr>\n",
       "    <tr>\n",
       "      <th>2</th>\n",
       "      <td>NaN</td>\n",
       "      <td>US</td>\n",
       "      <td>Gary Johnson</td>\n",
       "      <td>US</td>\n",
       "      <td>0.9951</td>\n",
       "      <td>4164589.0</td>\n",
       "      <td>127592176.0</td>\n",
       "      <td>0.032640</td>\n",
       "      <td>Donald Trump</td>\n",
       "    </tr>\n",
       "    <tr>\n",
       "      <th>3</th>\n",
       "      <td>NaN</td>\n",
       "      <td>US</td>\n",
       "      <td>Jill Stein</td>\n",
       "      <td>US</td>\n",
       "      <td>0.9951</td>\n",
       "      <td>1255968.0</td>\n",
       "      <td>127592176.0</td>\n",
       "      <td>0.009844</td>\n",
       "      <td>Donald Trump</td>\n",
       "    </tr>\n",
       "    <tr>\n",
       "      <th>4</th>\n",
       "      <td>NaN</td>\n",
       "      <td>US</td>\n",
       "      <td>Evan McMullin</td>\n",
       "      <td>US</td>\n",
       "      <td>0.9951</td>\n",
       "      <td>451636.0</td>\n",
       "      <td>127592176.0</td>\n",
       "      <td>0.003540</td>\n",
       "      <td>Donald Trump</td>\n",
       "    </tr>\n",
       "  </tbody>\n",
       "</table>\n",
       "</div>"
      ],
      "text/plain": [
       "  county fips             cand  st  pct_report       votes  total_votes  \\\n",
       "0    NaN   US     Donald Trump  US      0.9951  60350241.0  127592176.0   \n",
       "1    NaN   US  Hillary Clinton  US      0.9951  60981118.0  127592176.0   \n",
       "2    NaN   US     Gary Johnson  US      0.9951   4164589.0  127592176.0   \n",
       "3    NaN   US       Jill Stein  US      0.9951   1255968.0  127592176.0   \n",
       "4    NaN   US    Evan McMullin  US      0.9951    451636.0  127592176.0   \n",
       "\n",
       "        pct          lead  \n",
       "0  0.472993  Donald Trump  \n",
       "1  0.477938  Donald Trump  \n",
       "2  0.032640  Donald Trump  \n",
       "3  0.009844  Donald Trump  \n",
       "4  0.003540  Donald Trump  "
      ]
     },
     "execution_count": 6,
     "metadata": {},
     "output_type": "execute_result"
    }
   ],
   "source": [
    "pres16=pd.read_csv(\"/home/aaryan/Documents/DataSets/US_Prez_Elec.csv\")\n",
    "pres16.head()"
   ]
  },
  {
   "cell_type": "code",
   "execution_count": 7,
   "metadata": {},
   "outputs": [
    {
     "data": {
      "text/plain": [
       "885548"
      ]
     },
     "execution_count": 7,
     "metadata": {},
     "output_type": "execute_result"
    }
   ],
   "source": [
    "len(unemp_county)"
   ]
  },
  {
   "cell_type": "code",
   "execution_count": 8,
   "metadata": {},
   "outputs": [
    {
     "data": {
      "text/html": [
       "<div>\n",
       "<style scoped>\n",
       "    .dataframe tbody tr th:only-of-type {\n",
       "        vertical-align: middle;\n",
       "    }\n",
       "\n",
       "    .dataframe tbody tr th {\n",
       "        vertical-align: top;\n",
       "    }\n",
       "\n",
       "    .dataframe thead th {\n",
       "        text-align: right;\n",
       "    }\n",
       "</style>\n",
       "<table border=\"1\" class=\"dataframe\">\n",
       "  <thead>\n",
       "    <tr style=\"text-align: right;\">\n",
       "      <th></th>\n",
       "      <th>Year</th>\n",
       "      <th>Month</th>\n",
       "      <th>State</th>\n",
       "      <th>County</th>\n",
       "      <th>Rate</th>\n",
       "      <th>min_wage</th>\n",
       "    </tr>\n",
       "  </thead>\n",
       "  <tbody>\n",
       "    <tr>\n",
       "      <th>0</th>\n",
       "      <td>2015</td>\n",
       "      <td>February</td>\n",
       "      <td>Mississippi</td>\n",
       "      <td>Newton County</td>\n",
       "      <td>6.1</td>\n",
       "      <td>NaN</td>\n",
       "    </tr>\n",
       "    <tr>\n",
       "      <th>1</th>\n",
       "      <td>2015</td>\n",
       "      <td>February</td>\n",
       "      <td>Mississippi</td>\n",
       "      <td>Panola County</td>\n",
       "      <td>9.4</td>\n",
       "      <td>NaN</td>\n",
       "    </tr>\n",
       "    <tr>\n",
       "      <th>2</th>\n",
       "      <td>2015</td>\n",
       "      <td>February</td>\n",
       "      <td>Mississippi</td>\n",
       "      <td>Monroe County</td>\n",
       "      <td>7.9</td>\n",
       "      <td>NaN</td>\n",
       "    </tr>\n",
       "    <tr>\n",
       "      <th>3</th>\n",
       "      <td>2015</td>\n",
       "      <td>February</td>\n",
       "      <td>Mississippi</td>\n",
       "      <td>Hinds County</td>\n",
       "      <td>6.1</td>\n",
       "      <td>NaN</td>\n",
       "    </tr>\n",
       "    <tr>\n",
       "      <th>4</th>\n",
       "      <td>2015</td>\n",
       "      <td>February</td>\n",
       "      <td>Mississippi</td>\n",
       "      <td>Kemper County</td>\n",
       "      <td>10.6</td>\n",
       "      <td>NaN</td>\n",
       "    </tr>\n",
       "  </tbody>\n",
       "</table>\n",
       "</div>"
      ],
      "text/plain": [
       "   Year     Month        State         County  Rate  min_wage\n",
       "0  2015  February  Mississippi  Newton County   6.1       NaN\n",
       "1  2015  February  Mississippi  Panola County   9.4       NaN\n",
       "2  2015  February  Mississippi  Monroe County   7.9       NaN\n",
       "3  2015  February  Mississippi   Hinds County   6.1       NaN\n",
       "4  2015  February  Mississippi  Kemper County  10.6       NaN"
      ]
     },
     "execution_count": 8,
     "metadata": {},
     "output_type": "execute_result"
    }
   ],
   "source": [
    "county_2015 = unemp_county.copy()[(unemp_county['Year'] == 2015) & (unemp_county['Month'] == 'February')]\n",
    "county_2015.head()"
   ]
  },
  {
   "cell_type": "code",
   "execution_count": 11,
   "metadata": {},
   "outputs": [
    {
     "data": {
      "text/plain": [
       "array(['US', 'CA', 'FL', 'TX', 'NY', 'PA', 'IL', 'OH', 'MI', 'NC', 'GA',\n",
       "       'VA', 'NJ', 'MA', 'WI', 'MN', 'MO', 'WA', 'IN', 'CO', 'TN', 'MD',\n",
       "       'SC', 'AL', 'AZ', 'LA', 'KY', 'OR', 'CT', 'IA', 'OK', 'MS', 'KS',\n",
       "       'NV', 'AR', 'UT', 'NE', 'NM', 'ME', 'NH', 'WV', 'ID', 'MT', 'RI',\n",
       "       'DE', 'HI', 'SD', 'ND', 'VT', 'DC', 'WY', 'AK', nan], dtype=object)"
      ]
     },
     "execution_count": 11,
     "metadata": {},
     "output_type": "execute_result"
    }
   ],
   "source": [
    "pres16['st'].unique()"
   ]
  },
  {
   "cell_type": "code",
   "execution_count": null,
   "metadata": {},
   "outputs": [
    {
     "data": {
      "text/plain": [
       "Index(['Postal Abbreviation', 'Postal Code'], dtype='object')"
      ]
     },
     "execution_count": 10,
     "metadata": {},
     "output_type": "execute_result"
    }
   ],
   "source": [
    "state_abbv=pd.read_csv(\"/home/aaryan/Documents/DataSets/State_abbv.csv\",index_col=0)\n",
    "state_abbv.head()\n",
    "state_abbv.columns\n"
   ]
  },
  {
   "cell_type": "code",
   "execution_count": null,
   "metadata": {},
   "outputs": [
    {
     "data": {
      "text/plain": [
       "Index(['Postal Code'], dtype='object')"
      ]
     },
     "execution_count": 11,
     "metadata": {},
     "output_type": "execute_result"
    }
   ],
   "source": [
    "state_abbv=state_abbv[[\"Postal Code\"]]\n",
    "state_abbv.columns\n"
   ]
  },
  {
   "cell_type": "code",
   "execution_count": null,
   "metadata": {},
   "outputs": [
    {
     "data": {
      "text/plain": [
       "Index(['Postal Code'], dtype='object')"
      ]
     },
     "execution_count": 12,
     "metadata": {},
     "output_type": "execute_result"
    }
   ],
   "source": [
    "state_abbv_dict=state_abbv.to_dict()['Postal Code']\n",
    "state_abbv.columns"
   ]
  },
  {
   "cell_type": "code",
   "execution_count": null,
   "metadata": {},
   "outputs": [
    {
     "data": {
      "text/html": [
       "<div>\n",
       "<style scoped>\n",
       "    .dataframe tbody tr th:only-of-type {\n",
       "        vertical-align: middle;\n",
       "    }\n",
       "\n",
       "    .dataframe tbody tr th {\n",
       "        vertical-align: top;\n",
       "    }\n",
       "\n",
       "    .dataframe thead th {\n",
       "        text-align: right;\n",
       "    }\n",
       "</style>\n",
       "<table border=\"1\" class=\"dataframe\">\n",
       "  <thead>\n",
       "    <tr style=\"text-align: right;\">\n",
       "      <th></th>\n",
       "      <th>County</th>\n",
       "      <th>fips</th>\n",
       "      <th>cand</th>\n",
       "      <th>State</th>\n",
       "      <th>pct_report</th>\n",
       "      <th>votes</th>\n",
       "      <th>total_votes</th>\n",
       "      <th>pct</th>\n",
       "      <th>lead</th>\n",
       "    </tr>\n",
       "  </thead>\n",
       "  <tbody>\n",
       "    <tr>\n",
       "      <th>0</th>\n",
       "      <td>NaN</td>\n",
       "      <td>US</td>\n",
       "      <td>Donald Trump</td>\n",
       "      <td>US</td>\n",
       "      <td>0.9951</td>\n",
       "      <td>60350241.0</td>\n",
       "      <td>127592176.0</td>\n",
       "      <td>0.472993</td>\n",
       "      <td>Donald Trump</td>\n",
       "    </tr>\n",
       "    <tr>\n",
       "      <th>1</th>\n",
       "      <td>NaN</td>\n",
       "      <td>US</td>\n",
       "      <td>Hillary Clinton</td>\n",
       "      <td>US</td>\n",
       "      <td>0.9951</td>\n",
       "      <td>60981118.0</td>\n",
       "      <td>127592176.0</td>\n",
       "      <td>0.477938</td>\n",
       "      <td>Donald Trump</td>\n",
       "    </tr>\n",
       "    <tr>\n",
       "      <th>2</th>\n",
       "      <td>NaN</td>\n",
       "      <td>US</td>\n",
       "      <td>Gary Johnson</td>\n",
       "      <td>US</td>\n",
       "      <td>0.9951</td>\n",
       "      <td>4164589.0</td>\n",
       "      <td>127592176.0</td>\n",
       "      <td>0.032640</td>\n",
       "      <td>Donald Trump</td>\n",
       "    </tr>\n",
       "    <tr>\n",
       "      <th>3</th>\n",
       "      <td>NaN</td>\n",
       "      <td>US</td>\n",
       "      <td>Jill Stein</td>\n",
       "      <td>US</td>\n",
       "      <td>0.9951</td>\n",
       "      <td>1255968.0</td>\n",
       "      <td>127592176.0</td>\n",
       "      <td>0.009844</td>\n",
       "      <td>Donald Trump</td>\n",
       "    </tr>\n",
       "    <tr>\n",
       "      <th>4</th>\n",
       "      <td>NaN</td>\n",
       "      <td>US</td>\n",
       "      <td>Evan McMullin</td>\n",
       "      <td>US</td>\n",
       "      <td>0.9951</td>\n",
       "      <td>451636.0</td>\n",
       "      <td>127592176.0</td>\n",
       "      <td>0.003540</td>\n",
       "      <td>Donald Trump</td>\n",
       "    </tr>\n",
       "  </tbody>\n",
       "</table>\n",
       "</div>"
      ],
      "text/plain": [
       "  County fips             cand State  pct_report       votes  total_votes  \\\n",
       "0    NaN   US     Donald Trump    US      0.9951  60350241.0  127592176.0   \n",
       "1    NaN   US  Hillary Clinton    US      0.9951  60981118.0  127592176.0   \n",
       "2    NaN   US     Gary Johnson    US      0.9951   4164589.0  127592176.0   \n",
       "3    NaN   US       Jill Stein    US      0.9951   1255968.0  127592176.0   \n",
       "4    NaN   US    Evan McMullin    US      0.9951    451636.0  127592176.0   \n",
       "\n",
       "        pct          lead  \n",
       "0  0.472993  Donald Trump  \n",
       "1  0.477938  Donald Trump  \n",
       "2  0.032640  Donald Trump  \n",
       "3  0.009844  Donald Trump  \n",
       "4  0.003540  Donald Trump  "
      ]
     },
     "execution_count": 13,
     "metadata": {},
     "output_type": "execute_result"
    }
   ],
   "source": [
    "pres16.rename(columns={\"county\":\"County\",\"st\":\"State\"},inplace=True)\n",
    "pres16.head()"
   ]
  },
  {
   "cell_type": "code",
   "execution_count": null,
   "metadata": {},
   "outputs": [],
   "source": [
    "for df in [county_2015,pres16]:\n",
    "    df.set_index([\"County\",\"State\"],inplace=True)"
   ]
  },
  {
   "cell_type": "code",
   "execution_count": null,
   "metadata": {},
   "outputs": [
    {
     "ename": "KeyError",
     "evalue": "'County'",
     "output_type": "error",
     "traceback": [
      "\u001b[0;31m---------------------------------------------------------------------------\u001b[0m",
      "\u001b[0;31mKeyError\u001b[0m                                  Traceback (most recent call last)",
      "File \u001b[0;32m/usr/local/lib/python3.10/dist-packages/pandas/core/indexes/base.py:3621\u001b[0m, in \u001b[0;36mIndex.get_loc\u001b[0;34m(self, key, method, tolerance)\u001b[0m\n\u001b[1;32m   3620\u001b[0m \u001b[39mtry\u001b[39;00m:\n\u001b[0;32m-> 3621\u001b[0m     \u001b[39mreturn\u001b[39;00m \u001b[39mself\u001b[39;49m\u001b[39m.\u001b[39;49m_engine\u001b[39m.\u001b[39;49mget_loc(casted_key)\n\u001b[1;32m   3622\u001b[0m \u001b[39mexcept\u001b[39;00m \u001b[39mKeyError\u001b[39;00m \u001b[39mas\u001b[39;00m err:\n",
      "File \u001b[0;32m/usr/local/lib/python3.10/dist-packages/pandas/_libs/index.pyx:136\u001b[0m, in \u001b[0;36mpandas._libs.index.IndexEngine.get_loc\u001b[0;34m()\u001b[0m\n",
      "File \u001b[0;32m/usr/local/lib/python3.10/dist-packages/pandas/_libs/index.pyx:163\u001b[0m, in \u001b[0;36mpandas._libs.index.IndexEngine.get_loc\u001b[0;34m()\u001b[0m\n",
      "File \u001b[0;32mpandas/_libs/hashtable_class_helper.pxi:5198\u001b[0m, in \u001b[0;36mpandas._libs.hashtable.PyObjectHashTable.get_item\u001b[0;34m()\u001b[0m\n",
      "File \u001b[0;32mpandas/_libs/hashtable_class_helper.pxi:5206\u001b[0m, in \u001b[0;36mpandas._libs.hashtable.PyObjectHashTable.get_item\u001b[0;34m()\u001b[0m\n",
      "\u001b[0;31mKeyError\u001b[0m: 'County'",
      "\nThe above exception was the direct cause of the following exception:\n",
      "\u001b[0;31mKeyError\u001b[0m                                  Traceback (most recent call last)",
      "\u001b[1;32m/home/aaryan/AI ML/Data Analysis/Graphing and Visualization/Mul_Data_Combine.ipynb Cell 15\u001b[0m in \u001b[0;36m<cell line: 1>\u001b[0;34m()\u001b[0m\n\u001b[0;32m----> <a href='vscode-notebook-cell:/home/aaryan/AI%20ML/Data%20Analysis/Graphing%20and%20Visualization/Mul_Data_Combine.ipynb#X20sZmlsZQ%3D%3D?line=0'>1</a>\u001b[0m pres16[\u001b[39m'\u001b[39m\u001b[39mCounty\u001b[39m\u001b[39m'\u001b[39m] \u001b[39m=\u001b[39m pres16[\u001b[39m'\u001b[39;49m\u001b[39mCounty\u001b[39;49m\u001b[39m'\u001b[39;49m]\u001b[39m.\u001b[39mastype(\u001b[39mstr\u001b[39m)\n",
      "File \u001b[0;32m/usr/local/lib/python3.10/dist-packages/pandas/core/frame.py:3505\u001b[0m, in \u001b[0;36mDataFrame.__getitem__\u001b[0;34m(self, key)\u001b[0m\n\u001b[1;32m   3503\u001b[0m \u001b[39mif\u001b[39;00m \u001b[39mself\u001b[39m\u001b[39m.\u001b[39mcolumns\u001b[39m.\u001b[39mnlevels \u001b[39m>\u001b[39m \u001b[39m1\u001b[39m:\n\u001b[1;32m   3504\u001b[0m     \u001b[39mreturn\u001b[39;00m \u001b[39mself\u001b[39m\u001b[39m.\u001b[39m_getitem_multilevel(key)\n\u001b[0;32m-> 3505\u001b[0m indexer \u001b[39m=\u001b[39m \u001b[39mself\u001b[39;49m\u001b[39m.\u001b[39;49mcolumns\u001b[39m.\u001b[39;49mget_loc(key)\n\u001b[1;32m   3506\u001b[0m \u001b[39mif\u001b[39;00m is_integer(indexer):\n\u001b[1;32m   3507\u001b[0m     indexer \u001b[39m=\u001b[39m [indexer]\n",
      "File \u001b[0;32m/usr/local/lib/python3.10/dist-packages/pandas/core/indexes/base.py:3623\u001b[0m, in \u001b[0;36mIndex.get_loc\u001b[0;34m(self, key, method, tolerance)\u001b[0m\n\u001b[1;32m   3621\u001b[0m     \u001b[39mreturn\u001b[39;00m \u001b[39mself\u001b[39m\u001b[39m.\u001b[39m_engine\u001b[39m.\u001b[39mget_loc(casted_key)\n\u001b[1;32m   3622\u001b[0m \u001b[39mexcept\u001b[39;00m \u001b[39mKeyError\u001b[39;00m \u001b[39mas\u001b[39;00m err:\n\u001b[0;32m-> 3623\u001b[0m     \u001b[39mraise\u001b[39;00m \u001b[39mKeyError\u001b[39;00m(key) \u001b[39mfrom\u001b[39;00m \u001b[39merr\u001b[39;00m\n\u001b[1;32m   3624\u001b[0m \u001b[39mexcept\u001b[39;00m \u001b[39mTypeError\u001b[39;00m:\n\u001b[1;32m   3625\u001b[0m     \u001b[39m# If we have a listlike key, _check_indexing_error will raise\u001b[39;00m\n\u001b[1;32m   3626\u001b[0m     \u001b[39m#  InvalidIndexError. Otherwise we fall through and re-raise\u001b[39;00m\n\u001b[1;32m   3627\u001b[0m     \u001b[39m#  the TypeError.\u001b[39;00m\n\u001b[1;32m   3628\u001b[0m     \u001b[39mself\u001b[39m\u001b[39m.\u001b[39m_check_indexing_error(key)\n",
      "\u001b[0;31mKeyError\u001b[0m: 'County'"
     ]
    }
   ],
   "source": [
    "pres16['County'] = pres16['County'].astype(str)"
   ]
  },
  {
   "cell_type": "code",
   "execution_count": null,
   "metadata": {},
   "outputs": [],
   "source": [
    "pres16.head()"
   ]
  },
  {
   "cell_type": "code",
   "execution_count": null,
   "metadata": {},
   "outputs": [],
   "source": []
  }
 ],
 "metadata": {
  "kernelspec": {
   "display_name": "Python 3.10.4 64-bit",
   "language": "python",
   "name": "python3"
  },
  "language_info": {
   "codemirror_mode": {
    "name": "ipython",
    "version": 3
   },
   "file_extension": ".py",
   "mimetype": "text/x-python",
   "name": "python",
   "nbconvert_exporter": "python",
   "pygments_lexer": "ipython3",
   "version": "3.10.6"
  },
  "orig_nbformat": 4,
  "vscode": {
   "interpreter": {
    "hash": "916dbcbb3f70747c44a77c7bcd40155683ae19c65e1c03b4aa3499c5328201f1"
   }
  }
 },
 "nbformat": 4,
 "nbformat_minor": 2
}
