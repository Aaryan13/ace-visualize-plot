{
 "cells": [
  {
   "cell_type": "code",
   "execution_count": 1,
   "metadata": {},
   "outputs": [
    {
     "data": {
      "text/plain": [
       "['Al',\n",
       " 'Ar',\n",
       " 'Ca',\n",
       " 'Co',\n",
       " 'Co',\n",
       " 'De',\n",
       " 'Di',\n",
       " 'Gu',\n",
       " 'Ha',\n",
       " 'Id',\n",
       " 'In',\n",
       " 'Ke',\n",
       " 'Ma',\n",
       " 'Ma',\n",
       " 'Ma',\n",
       " 'Mi',\n",
       " 'Mi',\n",
       " 'Ne',\n",
       " 'Ne',\n",
       " 'Ne',\n",
       " 'Ne',\n",
       " 'Ne',\n",
       " 'Ne',\n",
       " 'No',\n",
       " 'No',\n",
       " 'Oh',\n",
       " 'Ok',\n",
       " 'Or',\n",
       " 'Pe',\n",
       " 'Rh',\n",
       " 'So',\n",
       " 'Ut',\n",
       " 'Ve',\n",
       " 'Wa',\n",
       " 'We',\n",
       " 'Wi',\n",
       " 'Wy']"
      ]
     },
     "execution_count": 1,
     "metadata": {},
     "output_type": "execute_result"
    },
    {
     "data": {
      "image/png": "[encoded data removed]",
      "text/plain": [
       "<Figure size 864x864 with 1 Axes>"
      ]
     },
     "metadata": {
      "needs_background": "light"
     },
     "output_type": "display_data"
    }
   ],
   "source": [
    "import pandas as pd\n",
    "import numpy as np\n",
    "df=pd.read_csv(\"/home/aaryan/Documents/DataSets/MinWageData.csv\",encoding=\"UTF-8\")\n",
    "df=pd.read_csv(\"/home/aaryan/Documents/DataSets/MinWageData.csv\")\n",
    "act_min_wage=pd.DataFrame()\n",
    "for name,group in df.groupby(\"State\"):\n",
    "    if act_min_wage.empty:\n",
    "        act_min_wage=group.set_index(\"Year\")[[\"Department.Of.Labor.Cleaned.Low.Value.2020.Dollars\"]].rename(columns={\"Department.Of.Labor.Cleaned.Low.Value.2020.Dollars\":name})\n",
    "    else:\n",
    "        act_min_wage=act_min_wage.join(group.set_index(\"Year\")[[\"Department.Of.Labor.Cleaned.Low.Value.2020.Dollars\"]].rename(columns={\"Department.Of.Labor.Cleaned.Low.Value.2020.Dollars\":name}))\n",
    "min_wage_corr=act_min_wage.replace(0, np.NaN).dropna(axis=1).corr()\n",
    "# print(min_wage_corr.head())        \n",
    "\n",
    "import matplotlib.pyplot as plt\n",
    "# plt.matshow(min_wage_corr)\n",
    "\n",
    "#The plot/graph shown by this method is absolute garbage, so we need to improve that\n",
    "labels=[c[:2] for c in min_wage_corr.columns]\n",
    "#Sizing our plot\n",
    "fig=plt.figure(figsize=(12,12))\n",
    "# plt.matshow(min_wage_corr)\n",
    "\n",
    "\n",
    "#  If you want to modify our graph, you can't modify plt(matplotlib) you have to modify an axis, and to have an axis\n",
    "# You need to have a subplot and for a subplot you need a figure so ya its a long path     \n",
    "\n",
    "#Now we wanna have our axes from our figure\n",
    "ax=fig.add_subplot(111)\n",
    "#(111) all the subplots in our figure are in a 1X1 grid and this is number one(1)\n",
    "# Simply put this just means there is going to be one graph we are doing modification on\n",
    "# ax.matshow(min_wage_corr, cmap=plt.cm.RdYlGn); #cmap is color of the map \n",
    "\n",
    "#Now we'll do some changes to our Axes\n",
    "# ax.set_yticklabels(labels)\n",
    "# ax.set_xticklabels(labels)\n",
    "ax.matshow(min_wage_corr, cmap=plt.cm.RdYlGn);  \n",
    "\n",
    "#Hey Matplotlib show all of the labels passed inside (labels) function in ax.set_xticklabels(labels)\n",
    "# ax.set_xticks( np.arange(len(labels)))\n",
    "# ax.set_yticks( np.arange(len(labels))) \n",
    "\n",
    "# ax.set_yticklabels(labels)\n",
    "# ax.set_xticklabels(labels)\n",
    "\n",
    "# ax.matshow(min_wage_corr, cmap=plt.cm.RdYlGn)\n",
    "# plt.show()\n",
    "\n",
    "labels\n"
   ]
  },
  {
   "cell_type": "code",
   "execution_count": 2,
   "metadata": {},
   "outputs": [
    {
     "data": {
      "text/html": [
       "<div>\n",
       "<style scoped>\n",
       "    .dataframe tbody tr th:only-of-type {\n",
       "        vertical-align: middle;\n",
       "    }\n",
       "\n",
       "    .dataframe tbody tr th {\n",
       "        vertical-align: top;\n",
       "    }\n",
       "\n",
       "    .dataframe thead th {\n",
       "        text-align: right;\n",
       "    }\n",
       "</style>\n",
       "<table border=\"1\" class=\"dataframe\">\n",
       "  <thead>\n",
       "    <tr style=\"text-align: right;\">\n",
       "      <th></th>\n",
       "      <th>State Name/District</th>\n",
       "      <th>Postal Abbreviation</th>\n",
       "      <th>Postal Code</th>\n",
       "    </tr>\n",
       "  </thead>\n",
       "  <tbody>\n",
       "    <tr>\n",
       "      <th>0</th>\n",
       "      <td>Alabama</td>\n",
       "      <td>Ala.</td>\n",
       "      <td>AL</td>\n",
       "    </tr>\n",
       "    <tr>\n",
       "      <th>1</th>\n",
       "      <td>Alaska</td>\n",
       "      <td>Alaska</td>\n",
       "      <td>AK</td>\n",
       "    </tr>\n",
       "    <tr>\n",
       "      <th>2</th>\n",
       "      <td>Arizona</td>\n",
       "      <td>Ariz.</td>\n",
       "      <td>AZ</td>\n",
       "    </tr>\n",
       "    <tr>\n",
       "      <th>3</th>\n",
       "      <td>Arkansas</td>\n",
       "      <td>Ark.</td>\n",
       "      <td>AR</td>\n",
       "    </tr>\n",
       "    <tr>\n",
       "      <th>4</th>\n",
       "      <td>California</td>\n",
       "      <td>Calif.</td>\n",
       "      <td>CA</td>\n",
       "    </tr>\n",
       "  </tbody>\n",
       "</table>\n",
       "</div>"
      ],
      "text/plain": [
       "  State Name/District Postal Abbreviation Postal Code\n",
       "0             Alabama                Ala.          AL\n",
       "1              Alaska              Alaska          AK\n",
       "2             Arizona               Ariz.          AZ\n",
       "3            Arkansas                Ark.          AR\n",
       "4          California              Calif.          CA"
      ]
     },
     "execution_count": 2,
     "metadata": {},
     "output_type": "execute_result"
    }
   ],
   "source": [
    "import requests\n",
    "web=requests.get(\"https://www.infoplease.com/us/postal-information/state-abbreviations-and-state-postal-codes\")\n",
    "dfs=pd.read_html(web.text)\n",
    "state_abbv=dfs[0]\n",
    "state_abbv.head()"
   ]
  },
  {
   "cell_type": "code",
   "execution_count": 3,
   "metadata": {},
   "outputs": [
    {
     "name": "stdout",
     "output_type": "stream",
     "text": [
      "   Unnamed: 0 State Name/District Postal Abbreviation Postal Code\n",
      "0           0             Alabama                Ala.          AL\n",
      "1           1              Alaska              Alaska          AK\n",
      "2           2             Arizona               Ariz.          AZ\n",
      "3           3            Arkansas                Ark.          AR\n",
      "4           4          California              Calif.          CA\n"
     ]
    }
   ],
   "source": [
    "state_abbv.to_csv(\"/home/aaryan/Documents/DataSets/State_abbv.csv\")\n",
    "state_abbv=pd.read_csv(\"/home/aaryan/Documents/DataSets/State_abbv.csv\")\n",
    "print(state_abbv.head())"
   ]
  },
  {
   "cell_type": "code",
   "execution_count": 4,
   "metadata": {},
   "outputs": [
    {
     "name": "stdout",
     "output_type": "stream",
     "text": [
      "                    Postal Abbreviation Postal Code\n",
      "State Name/District                                \n",
      "Alabama                            Ala.          AL\n",
      "Alaska                           Alaska          AK\n",
      "Arizona                           Ariz.          AZ\n",
      "Arkansas                           Ark.          AR\n",
      "California                       Calif.          CA\n"
     ]
    }
   ],
   "source": [
    "import requests\n",
    "import pandas as pd\n",
    "web=requests.get(\"https://www.infoplease.com/us/postal-information/state-abbreviations-and-state-postal-codes\")\n",
    "dfs=pd.read_html(web.text)\n",
    "state_abbv=dfs[0]\n",
    "state_abbv.head()\n",
    "state_abbv.to_csv(\"/home/aaryan/Documents/DataSets/State_abbv.csv\",index=False)\n",
    "state_abbv=pd.read_csv(\"/home/aaryan/Documents/DataSets/State_abbv.csv\",index_col=0)\n",
    "print(state_abbv.head())"
   ]
  },
  {
   "cell_type": "code",
   "execution_count": 5,
   "metadata": {},
   "outputs": [
    {
     "data": {
      "text/plain": [
       "{'Alabama': 'AL',\n",
       " 'Alaska': 'AK',\n",
       " 'Arizona': 'AZ',\n",
       " 'Arkansas': 'AR',\n",
       " 'California': 'CA',\n",
       " 'Colorado': 'CO',\n",
       " 'Connecticut': 'CT',\n",
       " 'Delaware': 'DE',\n",
       " 'District of Columbia': 'DC',\n",
       " 'Florida': 'FL',\n",
       " 'Georgia': 'GA',\n",
       " 'Hawaii': 'HI',\n",
       " 'Idaho': 'ID',\n",
       " 'Illinois': 'IL',\n",
       " 'Indiana': 'IN',\n",
       " 'Iowa': 'IA',\n",
       " 'Kansas': 'KS',\n",
       " 'Kentucky': 'KY',\n",
       " 'Louisiana': 'LA',\n",
       " 'Maine': 'ME',\n",
       " 'Maryland': 'MD',\n",
       " 'Massachusetts': 'MA',\n",
       " 'Michigan': 'MI',\n",
       " 'Minnesota': 'MN',\n",
       " 'Mississippi': 'MS',\n",
       " 'Missouri': 'MO',\n",
       " 'Montana': 'MT',\n",
       " 'Nebraska': 'NE',\n",
       " 'Nevada': 'NV',\n",
       " 'New Hampshire': 'NH',\n",
       " 'New Jersey': 'NJ',\n",
       " 'New Mexico': 'NM',\n",
       " 'New York': 'NY',\n",
       " 'North Carolina': 'NC',\n",
       " 'North Dakota': 'ND',\n",
       " 'Ohio': 'OH',\n",
       " 'Oklahoma': 'OK',\n",
       " 'Oregon': 'OR',\n",
       " 'Pennsylvania': 'PA',\n",
       " 'Rhode Island': 'RI',\n",
       " 'South Carolina': 'SC',\n",
       " 'South Dakota': 'SD',\n",
       " 'Tennessee': 'TN',\n",
       " 'Texas': 'TX',\n",
       " 'Utah': 'UT',\n",
       " 'Vermont': 'VT',\n",
       " 'Virginia': 'VA',\n",
       " 'Washington': 'WA',\n",
       " 'West Virginia': 'WV',\n",
       " 'Wisconsin': 'WI',\n",
       " 'Wyoming': 'WY'}"
      ]
     },
     "execution_count": 5,
     "metadata": {},
     "output_type": "execute_result"
    }
   ],
   "source": [
    "abbv_dict=state_abbv[[\"Postal Code\"]].to_dict()\n",
    "abbv_dict=abbv_dict[\"Postal Code\"]\n",
    "abbv_dict"
   ]
  },
  {
   "cell_type": "code",
   "execution_count": 6,
   "metadata": {},
   "outputs": [
    {
     "ename": "KeyError",
     "evalue": "'Guam'",
     "output_type": "error",
     "traceback": [
      "\u001b[0;31m---------------------------------------------------------------------------\u001b[0m",
      "\u001b[0;31mKeyError\u001b[0m                                  Traceback (most recent call last)",
      "\u001b[1;32m/home/aaryan/AI ML/Data Analysis/Graphing and Visualization/Visualize_Jupyter.ipynb Cell 6\u001b[0m in \u001b[0;36m<cell line: 1>\u001b[0;34m()\u001b[0m\n\u001b[0;32m----> <a href='vscode-notebook-cell:/home/aaryan/AI%20ML/Data%20Analysis/Graphing%20and%20Visualization/Visualize_Jupyter.ipynb#W5sZmlsZQ%3D%3D?line=0'>1</a>\u001b[0m labels\u001b[39m=\u001b[39m[abbv_dict[c] \u001b[39mfor\u001b[39;00m c \u001b[39min\u001b[39;00m min_wage_corr\u001b[39m.\u001b[39mcolumns]\n",
      "\u001b[1;32m/home/aaryan/AI ML/Data Analysis/Graphing and Visualization/Visualize_Jupyter.ipynb Cell 6\u001b[0m in \u001b[0;36m<listcomp>\u001b[0;34m(.0)\u001b[0m\n\u001b[0;32m----> <a href='vscode-notebook-cell:/home/aaryan/AI%20ML/Data%20Analysis/Graphing%20and%20Visualization/Visualize_Jupyter.ipynb#W5sZmlsZQ%3D%3D?line=0'>1</a>\u001b[0m labels\u001b[39m=\u001b[39m[abbv_dict[c] \u001b[39mfor\u001b[39;00m c \u001b[39min\u001b[39;00m min_wage_corr\u001b[39m.\u001b[39mcolumns]\n",
      "\u001b[0;31mKeyError\u001b[0m: 'Guam'"
     ]
    }
   ],
   "source": [
    "labels=[abbv_dict[c] for c in min_wage_corr.columns]"
   ]
  },
  {
   "cell_type": "code",
   "execution_count": null,
   "metadata": {},
   "outputs": [
    {
     "ename": "NameError",
     "evalue": "name 'act_min_wage' is not defined",
     "output_type": "error",
     "traceback": [
      "\u001b[0;31m---------------------------------------------------------------------------\u001b[0m",
      "\u001b[0;31mNameError\u001b[0m                                 Traceback (most recent call last)",
      "\u001b[1;32mUntitled-1.ipynb Cell 7\u001b[0m in \u001b[0;36m<cell line: 3>\u001b[0;34m()\u001b[0m\n\u001b[1;32m      <a href='vscode-notebook-cell:Untitled-1.ipynb?jupyter-notebook#ch0000006untitled?line=0'>1</a>\u001b[0m \u001b[39mimport\u001b[39;00m \u001b[39mmatplotlib\u001b[39;00m\u001b[39m.\u001b[39;00m\u001b[39mpyplot\u001b[39;00m \u001b[39mas\u001b[39;00m \u001b[39mplt\u001b[39;00m\n\u001b[1;32m      <a href='vscode-notebook-cell:Untitled-1.ipynb?jupyter-notebook#ch0000006untitled?line=1'>2</a>\u001b[0m \u001b[39m# plt.matshow(min_wage_corr)\u001b[39;00m\n\u001b[0;32m----> <a href='vscode-notebook-cell:Untitled-1.ipynb?jupyter-notebook#ch0000006untitled?line=2'>3</a>\u001b[0m min_wage_corr\u001b[39m=\u001b[39mact_min_wage\u001b[39m.\u001b[39mreplace(\u001b[39m0\u001b[39m, np\u001b[39m.\u001b[39mNaN)\u001b[39m.\u001b[39mdropna(axis\u001b[39m=\u001b[39m\u001b[39m1\u001b[39m)\u001b[39m.\u001b[39mcorr()\n\u001b[1;32m      <a href='vscode-notebook-cell:Untitled-1.ipynb?jupyter-notebook#ch0000006untitled?line=3'>4</a>\u001b[0m \u001b[39m#The plot/graph shown by this method is absolute garbage, so we need to improve that\u001b[39;00m\n\u001b[1;32m      <a href='vscode-notebook-cell:Untitled-1.ipynb?jupyter-notebook#ch0000006untitled?line=4'>5</a>\u001b[0m labels\u001b[39m=\u001b[39m[c[:\u001b[39m2\u001b[39m] \u001b[39mfor\u001b[39;00m c \u001b[39min\u001b[39;00m min_wage_corr\u001b[39m.\u001b[39mcolumns]\n",
      "\u001b[0;31mNameError\u001b[0m: name 'act_min_wage' is not defined"
     ]
    }
   ],
   "source": [
    "import matplotlib.pyplot as plt\n",
    "# plt.matshow(min_wage_corr)\n",
    "min_wage_corr=act_min_wage.replace(0, np.NaN).dropna(axis=1).corr()\n",
    "#The plot/graph shown by this method is absolute garbage, so we need to improve that\n",
    "labels=[c[:2] for c in min_wage_corr.columns]\n",
    "#Sizing our plot\n",
    "fig=plt.figure(figsize=(12,12))\n",
    "plt.matshow(min_wage_corr)\n",
    "ax=fig.add_subplot(111)\n",
    "# (111) all the subplots in our figure are in a 1X1 grid and this is number one(1)\n",
    "# Simply put this just means there is going to be one graph we are doing modification on\n",
    "# ax.matshow(min_wage_corr, cmap=plt.cm.RdYlGn); #cmap is color of the map \n",
    "\n",
    "# Now we'll do some changes to our axes\n",
    "# ax.set_yticklabels(labels)\n",
    "# ax.set_xticklabels(labels)\n",
    "# ax.matshow(min_wage_corr, cmap=plt.cm.RdYlGn);  \n",
    "\n",
    "# Hey Matplotlib show all of the labels passed inside (labels) function in ax.set_xticklabels(labels)\n",
    "# ax.set_xticks( np.arange(len(labels)))\n",
    "# ax.set_yticks( np.arange(len(labels))) \n",
    "\n",
    "# ax.set_yticklabels(labels)\n",
    "# ax.set_xticklabels(labels)\n",
    "\n",
    "# plt.show()\n"
   ]
  },
  {
   "cell_type": "code",
   "execution_count": null,
   "metadata": {},
   "outputs": [],
   "source": []
  }
 ],
 "metadata": {
  "kernelspec": {
   "display_name": "Python 3.10.4 64-bit",
   "language": "python",
   "name": "python3"
  },
  "language_info": {
   "codemirror_mode": {
    "name": "ipython",
    "version": 3
   },
   "file_extension": ".py",
   "mimetype": "text/x-python",
   "name": "python",
   "nbconvert_exporter": "python",
   "pygments_lexer": "ipython3",
   "version": "3.10.6"
  },
  "orig_nbformat": 4,
  "vscode": {
   "interpreter": {
    "hash": "916dbcbb3f70747c44a77c7bcd40155683ae19c65e1c03b4aa3499c5328201f1"
   }
  }
 },
 "nbformat": 4,
 "nbformat_minor": 2
}
